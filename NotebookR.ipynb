{
 "cells": [
  {
   "cell_type": "markdown",
   "id": "90361ce3-473c-4bef-a8ac-ce971eec8e1e",
   "metadata": {},
   "source": []
  },
  {
   "cell_type": "markdown",
   "id": "61c9a3fb-67c4-4ac7-9b5f-d69d6c8a69d3",
   "metadata": {},
   "source": []
  },
  {
   "cell_type": "code",
   "execution_count": null,
   "id": "c7afe5e5-ea91-4a82-8bfa-dd0a00160181",
   "metadata": {},
   "outputs": [],
   "source": [
    "library(ggplot2)\n",
    "library(reshape2)\n",
    "library(gridExtra)\n",
    "library(factoextra)\n",
    "library(FactoMineR)\n",
    "library(plotly)\n",
    "library(ggmap)"
   ]
  },
  {
   "cell_type": "markdown",
   "id": "fb2d1b1c-0573-4e68-8442-36405ee8c9f2",
   "metadata": {},
   "source": [
    "## Data"
   ]
  },
  {
   "cell_type": "code",
   "execution_count": null,
   "id": "64cc9341-507d-4733-b77c-26c88f34010b",
   "metadata": {},
   "outputs": [],
   "source": [
    "load <- read.csv(\"data/velibLoading.csv\", sep=\" \") # Reading data of the Velib loading\n",
    "head(load)\n"
   ]
  },
  {
   "cell_type": "code",
   "execution_count": null,
   "id": "00c146d5-0805-4e59-ab1d-dba1a70daad7",
   "metadata": {},
   "outputs": [],
   "source": [
    "coord = read.csv('data/velibCoord.csv', sep = \" \") # Reading coordinates for each loading\n",
    "head(coord)"
   ]
  },
  {
   "cell_type": "markdown",
   "id": "943173a2-c834-4226-b2c2-de72a75f8813",
   "metadata": {},
   "source": [
    "### Data cleaning"
   ]
  },
  {
   "cell_type": "code",
   "execution_count": null,
   "id": "df636023-643e-4a81-a5c2-841df0b40d1f",
   "metadata": {},
   "outputs": [],
   "source": [
    "cat('Shape of \"load\" :', dim(load))\n",
    "number_of_missing_values_load <- sum(is.na(load))\n",
    "number_of_duplicate_values_load <- sum(duplicated(load))\n",
    "cat('\\nNumber of missing values \"load\"', number_of_missing_values_load)\n",
    "cat('\\nNumber of duplicate values \"load\":', number_of_duplicate_values_load)\n",
    "\n",
    "cat('\\nShape of \"coord\" :', dim(coord))\n",
    "number_of_missing_values_coord <- sum(is.na(coord))\n",
    "number_of_duplicate_values_coord <- sum(duplicated(coord))\n",
    "cat('\\nNumber of missing values \"coord\"', number_of_missing_values_coord)\n",
    "cat('\\nNumber of duplicate values \"coord\":', number_of_duplicate_values_coord)\n"
   ]
  },
  {
   "cell_type": "markdown",
   "id": "e7fe0162-56b6-402a-9dca-cd43deab6116",
   "metadata": {},
   "source": [
    "## Descriptive part"
   ]
  },
  {
   "cell_type": "code",
   "execution_count": null,
   "id": "f4536ec2-7bef-4bfe-b1af-5d5d9edacd83",
   "metadata": {},
   "outputs": [],
   "source": [
    "station_names <- table(coord$names)\n",
    "station_names <- sort(station_names,decreasing=TRUE)\n",
    "head(station_names)\n",
    "indexes <- which(station_names>1)\n",
    "print(station_names[indexes])\n",
    "cat(\"\\nNumber of stations with multiple occurences in coord:\", length(station_names[indexes]))"
   ]
  },
  {
   "cell_type": "code",
   "execution_count": null,
   "id": "7a6b73ca-16ce-44af-a221-59d1ff8e1a81",
   "metadata": {},
   "outputs": [],
   "source": [
    "name_checkup <- c(' PORTE DES LILAS', ' CLICHY')\n",
    "multiple_stat <- coord$names %in% name_checkup\n",
    "stat_rel <- coord[multiple_stat,]\n",
    "print(stat_rel)"
   ]
  },
  {
   "cell_type": "code",
   "execution_count": null,
   "id": "c2318586-2764-4e92-9f34-06de6afea3f6",
   "metadata": {},
   "outputs": [],
   "source": [
    "fig <- qmplot(data=stat_rel, longitude, latitude, color = names, zoom = 16) + \n",
    "    labs(title = paste('Placement of stations with multiple occurances:',paste(name_checkup, collapse = ',')))\n",
    "fig"
   ]
  },
  {
   "cell_type": "markdown",
   "id": "4d14ad5e-9d9d-44ea-8e25-6755e2f2f0ff",
   "metadata": {},
   "source": [
    "Looking at two different stations with multiple occurences, we can see that they are really close geographically. We can suppose that the velib there are often used. Let's take a look at the loading of the station Porte des lilas .\n"
   ]
  },
  {
   "cell_type": "code",
   "execution_count": null,
   "id": "61a048ad-ef4e-4e2b-979e-ce605ea96c01",
   "metadata": {},
   "outputs": [],
   "source": [
    "time_tick = 1 + 24*(0:6) \n",
    "\n",
    "ind <- which(coord$names == \" PORTE DES LILAS\")\n",
    "i1 <- ind[1]\n",
    "\n",
    "df = melt(load[i1,])  \n",
    "df$time_range = 1:ncol(load)\n",
    "\n",
    "p1 = ggplot(df, aes(x=time_range, y=value)) + geom_line(col=\"darkorchid\") +\n",
    "    geom_vline(xintercept=time_tick, col=\"orange\", linetype=\"dashed\") +\n",
    "    labs(title=coord$names[i1])\n",
    "\n",
    "i2 <- ind[2]\n",
    "df = melt(load[i2,])\n",
    "df$time_range = 1:ncol(load)\n",
    "\n",
    "p2 = ggplot(df, aes(x=time_range, y=value)) + geom_line(col=\"darkorchid\") +\n",
    "    geom_vline(xintercept=time_tick, col=\"orange\", linetype=\"dashed\") +\n",
    "    labs(title=coord$names[i2])\n",
    "\n",
    "i3 <- ind[3]\n",
    "\n",
    "df = melt(load[i3,]) \n",
    "df$time_range = 1:ncol(load)\n",
    "\n",
    "p3 = ggplot(df, aes(x=time_range, y=value)) + geom_line(col=\"darkorchid\") +\n",
    "    geom_vline(xintercept=time_tick, col=\"orange\", linetype=\"dashed\") +\n",
    "    labs(title=coord$names[i3])\n",
    "\n",
    "p <- list(p1,p2,p3)\n",
    "do.call(grid.arrange,p)"
   ]
  },
  {
   "cell_type": "markdown",
   "id": "4e8e7842-7b12-4816-8565-0c54891a3cba",
   "metadata": {},
   "source": [
    "Indeed, we can clearly see that the loading of those station are often near 0. It moves a lot so we can imagine that the velib are put there the morning and directly used by the inhabitants to go to work. We can explain that there is only one time in the day where the loading is high by the fact that this station is on a hill. We can suppose that the people are using the velib to go down to work and then take the public transport to go back up. Let's take a look at the loading of the station Clichy which is not on a hill.\n"
   ]
  },
  {
   "cell_type": "code",
   "execution_count": null,
   "id": "f08b966b-d3a7-4966-8700-43dc51ad077e",
   "metadata": {},
   "outputs": [],
   "source": [
    "ind <- which(coord$names == \" CLICHY\")\n",
    "i1 <- ind[1]\n",
    "\n",
    "df = melt(load[i1,])  \n",
    "df$time_range = 1:ncol(load)\n",
    "\n",
    "p1 = ggplot(df, aes(x=time_range, y=value)) + geom_line(col=\"darkorchid\") +\n",
    "    geom_vline(xintercept=time_tick, col=\"orange\", linetype=\"dashed\") +\n",
    "    labs(title=coord$names[i1])\n",
    "\n",
    "i2 <- ind[2]\n",
    "df = melt(load[i2,])\n",
    "df$time_range = 1:ncol(load)\n",
    "\n",
    "p2 = ggplot(df, aes(x=time_range, y=value)) + geom_line(col=\"darkorchid\") +\n",
    "    geom_vline(xintercept=time_tick, col=\"orange\", linetype=\"dashed\") +\n",
    "    labs(title=coord$names[i2])\n",
    "\n",
    "\n",
    "p <- list(p1,p2)\n",
    "do.call(grid.arrange,p)"
   ]
  },
  {
   "cell_type": "markdown",
   "id": "2603903b-43ea-4128-a95e-71727c8ad2d1",
   "metadata": {},
   "source": [
    "It is really more difficult to interpret the loading of this station.\n"
   ]
  },
  {
   "cell_type": "code",
   "execution_count": null,
   "id": "dda5e456-2cba-4858-b2fb-b006cc7e7a12",
   "metadata": {},
   "outputs": [],
   "source": [
    "print('--- Average loading ---')\n",
    "mean <- rowMeans(load) # Average per station\n",
    "tot_mean <- mean(mean)\n",
    "print(round(tot_mean,4))\n",
    "\n",
    "# --- #\n",
    "print(\" \")\n",
    "print('--- Least loaded station, on average ---')\n",
    "print(paste(coord[which.min(mean),],round (min(mean),4)))\n",
    "# --- \n",
    "\n",
    "print('')\n",
    "\n",
    "print('--- Fullest loaded station, on average ---')\n",
    "print(paste(coord[which.max(mean),],round (max(mean),4)))\n",
    "\n",
    "# --- \n",
    "print(\"--- Average loading of station CLICHY ---\")\n",
    "print((mean[i1]+mean[i2])/2)\n"
   ]
  },
  {
   "cell_type": "markdown",
   "id": "3f26a77f-5cc7-408f-8107-a7ae4cac329f",
   "metadata": {},
   "source": [
    "The average loading of the stations Clichy is clearly lower than the average loading of all the stations. The velib there are then often used. It explains the fact that there is two stations at the same place there. However, we can see that the station Hornet (Bagnolet) is often empty but is not part of the station with multiple occurrences. It would maybe be useful to add one more. On the other hand, some stations are not that useful. Indeed, the station Insurrection aout 1944 (Ivry) is almost full at every hour of the day, with an average loading of almost 92%. Let's take a closer look.\n"
   ]
  },
  {
   "cell_type": "code",
   "execution_count": null,
   "id": "5709e7fc-d0c5-46b6-bcb4-f42335e21e4b",
   "metadata": {},
   "outputs": [],
   "source": [
    "ind <- which(coord$names == \" INSURRECTION AOUT 1944 (IVRY)\")\n",
    "i <- ind[1]\n",
    "\n",
    "df = melt(load[i,])  \n",
    "df$time_range = 1:ncol(load)\n",
    "\n",
    "ggplot(df, aes(x=time_range, y=value)) + geom_line(col=\"darkorchid\") +\n",
    "    geom_vline(xintercept=time_tick, col=\"orange\", linetype=\"dashed\") +\n",
    "    labs(title=coord$names[i])\n",
    "\n",
    "min(load[i,])\n",
    "```"
   ]
  },
  {
   "cell_type": "markdown",
   "id": "627bc647-3489-496d-bf5b-657312058864",
   "metadata": {},
   "source": [
    "We can now see that the lower loading is almost of 57% on wednesday but it is hard to explain why. Except that day, it does not go under 70%. Let's now take a look at the entire data frame.\n"
   ]
  },
  {
   "cell_type": "code",
   "execution_count": null,
   "id": "c5d3033e-ea60-47ed-bb4a-ced338b103b9",
   "metadata": {},
   "outputs": [],
   "source": [
    "time_ticks <- seq(0,168, by = 24)\n",
    "\n",
    "options(repr.plot.width = 15, repr.plot.height = 6)\n",
    "bp <- boxplot(load, xlab = \"Time\", ylab = \"Loading\", col = \"blue\", medcol =\"violet\")\n",
    "abline(v = time_ticks, col = \"orange\", lwd = 4, lty = \"dotted\")"
   ]
  },
  {
   "cell_type": "markdown",
   "id": "9accee6e-7fbe-414e-87a1-90b69a40bcdc",
   "metadata": {},
   "source": [
    "We can see that the behavior of stations loading is similar every weekday.The median load rate remains between 20% and 40%, so we can deduce that there is an imbalance in the use of the various stations.\n"
   ]
  },
  {
   "cell_type": "code",
   "execution_count": null,
   "id": "da71011e-4275-4a14-859d-f1755380265a",
   "metadata": {},
   "outputs": [],
   "source": [
    "mean_per_hour_per_day = colMeans(load)\n",
    "mean_per_hour_per_day = matrix(mean_per_hour_per_day, nrow = 24)\n",
    "mean_per_hour         = rowMeans(mean_per_hour_per_day)\n",
    "\n",
    "# --- #\n",
    "\n",
    "mean_per_hour_per_day            = as.data.frame(mean_per_hour_per_day)\n",
    "colnames(mean_per_hour_per_day)  = list(\"Monday\", \"Tuesday\", \"Wednesday\",\"Thursday\", \"Friday\", \"Saturday\", \"Sunday\")\n",
    "mean_per_hour_per_day$time_range = c(1:24)\n",
    "mean_per_hour_per_day            = melt(mean_per_hour_per_day, id='time_range', variable.name='Days')\n",
    "\n",
    "mean_per_hour            = as.data.frame(mean_per_hour)\n",
    "colnames(mean_per_hour)  = list(\"Weekly\")\n",
    "mean_per_hour$time_range = c(1:24)\n",
    "\n",
    "# --- #\n",
    "\n",
    "options(repr.plot.width = 15, repr.plot.height = 10)\n",
    "\n",
    "ggplot() + \n",
    "    geom_line(data=mean_per_hour_per_day, aes(x=time_range, y=value, color=Days)) + \n",
    "    geom_line(data=mean_per_hour, aes(x=time_range, y=Weekly), linewidth = 1.5)"
   ]
  },
  {
   "cell_type": "markdown",
   "id": "6a79e904-ae13-4c9f-9c16-a2cbc4413e53",
   "metadata": {},
   "source": [
    "For the weekdays, we can clearly see that the average loading evolves more or less in the same way. The stations are fuller in the morning, then people probably goes to work by bike between 8am and 10am. Many stations must have a really low loading rate at 8pm. In the weekend, the average loading is the lowest around 6pm. The velib are, in average, more used.\n"
   ]
  },
  {
   "cell_type": "code",
   "execution_count": null,
   "id": "7780ef0e-5ef2-4666-bde3-1ac429b98510",
   "metadata": {},
   "outputs": [],
   "source": [
    "noms_col <- names(load)\n",
    "\n",
    "options(repr.plot.width = 13, repr.plot.height = 10)\n",
    "hours = c(6, 12,15, 23)\n",
    "\n",
    "dfi = coord\n",
    "p1 = list()\n",
    "for (i in 1:length(hours)){\n",
    "    dfi$load = load[,hours[i]+1]\n",
    "    p1[[i]] = ggplot(dfi, aes(x=longitude, y=latitude, color=load)) + \n",
    "        geom_point() +\n",
    "        labs(title = paste(\"Stations loading - \",noms_col[hours[i]+1],\"h\"))\n",
    "}\n",
    "\n",
    "do.call(grid.arrange,c(p1, ncol=2))\n"
   ]
  },
  {
   "cell_type": "markdown",
   "id": "4f629298-d43e-48fa-bbbe-64acc98c5fc1",
   "metadata": {},
   "source": [
    "We can see that early in the morning et late in the evening, the stations the busiest stations are all around Paris center. However, during the day, they are all along the Seine. We can imagine that people are taking velib to go to work and go back home. Moreover, when we took a look at the map of the cycle paths of Paris, we can see that most of them are along the Seine. We can suppose that people prefer to ride a bike on a cycle path and then leave the bike when the path stops to finish their routes by walk or public transport.\n"
   ]
  },
  {
   "cell_type": "code",
   "execution_count": null,
   "id": "c6eecbe4-9fc4-4d13-981c-2810c48c16ae",
   "metadata": {},
   "outputs": [],
   "source": [
    "options(repr.plot.width = 13, repr.plot.height = 10)\n",
    "hours = c(126, 132, 143)\n",
    "\n",
    "dfi = coord\n",
    "p1 = list()\n",
    "for (i in 1:length(hours)){\n",
    "    dfi$load = load[,hours[i]+1]\n",
    "    p1[[i]] = ggplot(dfi, aes(x=longitude, y=latitude, color=load)) + \n",
    "        geom_point() +\n",
    "        labs(title = paste(\"Stations loading - \",noms_col[hours[i]+1],\"h\"))\n",
    "}\n",
    "\n",
    "do.call(grid.arrange,c(p1, ncol=2))"
   ]
  },
  {
   "cell_type": "markdown",
   "id": "81deb4e4-fbb7-4838-836e-65ac3ce11a4c",
   "metadata": {},
   "source": [
    "For the weekend, here the saturday, we can see that the velibs are globally more used. However, we can imagine that people are not going far from their place because the busiest stations stay the same more or less throughout the day. The stations are even busier at 6am, we can deduce that people are not going outside that early in the weekend.\n"
   ]
  },
  {
   "cell_type": "code",
   "execution_count": null,
   "id": "283fcfa1-7682-4a83-8abe-b4b98a1037e7",
   "metadata": {},
   "outputs": [],
   "source": [
    "Hill <- load[coord$bonus == 1, ]\n",
    "NoHill <- load[coord$bonus == 0, ]\n",
    "options(repr.plot.width = 15, repr.plot.height = 6)\n",
    "\n",
    "\n",
    "day <- c(\"Monday\", \"Tuesday\", \"Wednesday\", \"Thursday\", \"Friday\", \"Saturday\", \"Sunday\")\n",
    "HourHill <- matrix(colMeans(Hill), nrow = 24) # average loading of a station on the hill per hour for one day\n",
    "HourNoHill <- matrix(colMeans(NoHill), nrow = 24) # average loading of a station not on the hill per hour for one day\n",
    "options(repr.plot.width = 15, repr.plot.height = 6)\n",
    "par(mfrow = c(1, 2))\n",
    "matplot(HourHill, type = \"l\", xlim = c(0,26), ylim = c(0, 0.45), col = 1:7, pch = 19, \n",
    "        xlab = \"Hour, stations on a hill\", ylab = \"Loading\")\n",
    "legend(x = 10, y = 0.47, day,lty = 1:7, col = 1:7)\n",
    "matplot(HourNoHill, type = \"l\", ylim = c(0, 0.45), col = 1:7, pch = 19, \n",
    "        xlab = \"Hour, stations not on a hill\", ylab = \"Loading\")\n",
    "legend(x = 9, y = 0.3, day, lty = 1:7, col = 1:7)\n"
   ]
  },
  {
   "cell_type": "markdown",
   "id": "0328cdd3-6b05-4261-ad48-d1ea19f03adc",
   "metadata": {},
   "source": [
    "When we compare the stations that are located on a hill and those that are not on a hill, we can see a clear difference of the loading. During the weekdays, the loading of the stations of a hill is really low (between 0 et 20 %). People must use the bikes to go down to work and take the public transports to go back up, as we said earlier. During the weekend, those stations are always almost empty. However, for the stations that are not on a hill, the average loading per hour is higher (between 30 et 50%) and stays always in same range. \n",
    "\n",
    "## PCA\n",
    "\n"
   ]
  },
  {
   "cell_type": "code",
   "execution_count": null,
   "id": "5ae9f54a-a300-4e6d-b947-1020ec579cea",
   "metadata": {},
   "outputs": [],
   "source": [
    "options(repr.plot.width = 20, repr.plot.height = 8)\n",
    "pca = PCA(load, scale.unit = TRUE,ncp =20, graph=FALSE)\n",
    "\n",
    "# Visualisation of explained variance and variables\n",
    "grid.arrange(fviz_eig(pca),fviz_pca_var(pca,axes=c(1,2)),ncol=2)\n",
    "\n",
    "head(pca$eig)"
   ]
  },
  {
   "cell_type": "markdown",
   "id": "ece18876-7dc4-49a8-a3e9-d4c3d63e501b",
   "metadata": {},
   "source": [
    "\n",
    "We chose to keep four components so it explains enough the variances (72.9%) but not more to limit the number of components since it does not make us win a lot of explained variances.\n"
   ]
  },
  {
   "cell_type": "code",
   "execution_count": null,
   "id": "ca7bdfc0-bcda-4a73-9af6-e2a135fca7be",
   "metadata": {},
   "outputs": [],
   "source": [
    "pca<-PCA(load, scale.unit = T, ncp = 4, graph = F)"
   ]
  },
  {
   "cell_type": "code",
   "execution_count": null,
   "id": "dc56a708-64bd-4813-a465-e9d11541f5bb",
   "metadata": {},
   "outputs": [],
   "source": [
    "options(repr.plot.width = 30, repr.plot.height = 20)\n",
    "\n",
    "df = as.data.frame(pca$svd$V)\n",
    "\n",
    "df$time_range <- 1:ncol(load)\n",
    "\n",
    "df <- reshape2::melt(df, id.vars = \"time_range\")\n",
    "\n",
    "\n",
    "p1 = ggplot(df[df$variable == paste0(\"V\", 1), ], aes(x=time_range, y= value)) + geom_line() +\n",
    "    geom_vline(xintercept=time_tick, col=\"orange\", linetype=\"dashed\") +\n",
    "    labs(x = \"Time\", y = paste(\"Comp\", 1, \"Value\"))\n",
    "\n",
    "p2 = ggplot(df[df$variable == paste0(\"V\", 2), ], aes(x=time_range, y= value)) + geom_line() +\n",
    "    geom_vline(xintercept=time_tick, col=\"orange\", linetype=\"dashed\") +\n",
    "    labs(x = \"Time\", y = paste(\"Comp\", 2, \"Value\"))\n",
    "\n",
    "p3 = ggplot(df[df$variable == paste0(\"V\", 3), ], aes(x=time_range, y= value)) + geom_line() +\n",
    "    geom_vline(xintercept=time_tick, col=\"orange\", linetype=\"dashed\") +\n",
    "    labs(x = \"Time\", y = paste(\"Comp\", 3, \"Value\"))\n",
    "\n",
    "p4 = ggplot(df[df$variable == paste0(\"V\", 4), ], aes(x=time_range, y= value)) + geom_line() +\n",
    "     geom_vline(xintercept=time_tick, col=\"orange\", linetype=\"dashed\") +\n",
    "     labs(x = \"Time\", y = paste(\"Comp\", 4, \"Value\"))\n",
    "\n",
    "#p5 = ggplot(df[df$variable == paste0(\"V\", 5), ], aes(x=time_range, y= value)) + geom_line() +\n",
    "#    geom_vline(xintercept=time_tick, col=\"orange\", linetype=\"dashed\") +\n",
    "#    labs(x = \"Time\", y = paste(\"Comp\", 5, \"Value\"))\n",
    "\n",
    "\n",
    "\n",
    "p <- list(p1,p2,p3,p4)\n",
    "do.call(grid.arrange,p)\n"
   ]
  },
  {
   "cell_type": "code",
   "execution_count": null,
   "id": "307b05c0-745b-4ce1-a735-fd29fabf21ad",
   "metadata": {},
   "outputs": [],
   "source": [
    "options(repr.plot.width = 10, repr.plot.height = 6)\n",
    "\n",
    "grid.arrange(\n",
    "  \n",
    "    fviz_pca_ind(pca, axes=c(1,2), geom=c(\"point\")),\n",
    "    fviz_pca_ind(pca, axes=c(1,3), geom=c(\"point\")),\n",
    "    fviz_pca_ind(pca, axes=c(2,3), geom=c(\"point\")),\n",
    "    ncol=3\n",
    ")"
   ]
  },
  {
   "cell_type": "markdown",
   "id": "3201109b-5f4e-4f91-92db-926fc4971a92",
   "metadata": {},
   "source": [
    "## Clustering the initial data\n",
    "\n",
    "### Kmeans\n",
    "\n",
    "Choice of the best K:"
   ]
  },
  {
   "cell_type": "code",
   "execution_count": null,
   "id": "1a88f3fb-4d13-45ae-8187-de2c5024a949",
   "metadata": {},
   "outputs": [],
   "source": [
    "options(repr.plot.width = 10, repr.plot.height = 6)\n",
    "\n",
    "\n",
    "fviz_nbclust(load, FUNcluster=kmeans, method=\"wss\") +\n",
    "    ggtitle(\"Within sum of square (WSS) according to the number of clusters\")\n",
    "\n",
    "fviz_nbclust(load, FUNcluster=kmeans, method=\"silhouette\") +\n",
    "    ggtitle(\"Silhouette score according to the number of clusters\")"
   ]
  },
  {
   "cell_type": "markdown",
   "id": "adad9fdb-52a2-4259-bc93-957c9160a74a",
   "metadata": {},
   "source": [
    "According to the silhouette score, we would choose k = 2, but according to WSS, it is more difficult to determine.\n"
   ]
  },
  {
   "cell_type": "code",
   "execution_count": null,
   "id": "9d7f101b-6973-4ccb-93cb-78b40f83c520",
   "metadata": {},
   "outputs": [],
   "source": [
    "library(factoextra)\n",
    "library(cluster)\n",
    "options(repr.plot.width = 15, repr.plot.height = 12)\n",
    "\n",
    "# With 2 clusters\n",
    "reskmeans = kmeans(load, centers=2) \n",
    "sil = silhouette(reskmeans$cluster, dist(load))\n",
    "p1 = fviz_silhouette(sil)\n",
    "\n",
    "# With 3 clusters\n",
    "reskmeans = kmeans(load, centers=3) \n",
    "sil = silhouette(reskmeans$cluster, dist(load))\n",
    "p2 = fviz_silhouette(sil)\n",
    "\n",
    "# With 4 clusters\n",
    "reskmeans = kmeans(load, centers=4) \n",
    "sil = silhouette(reskmeans$cluster, dist(load))\n",
    "p3 = fviz_silhouette(sil)\n",
    "\n",
    "# With 5 clusters\n",
    "reskmeans = kmeans(load, centers=5) \n",
    "sil = silhouette(reskmeans$cluster, dist(load))\n",
    "p4 = fviz_silhouette(sil)\n",
    "\n",
    "grid.arrange(p1,p2,p3, p4,ncol=2)"
   ]
  },
  {
   "cell_type": "markdown",
   "id": "cc2ba32a-134d-41f2-9e06-63b95560eb72",
   "metadata": {},
   "source": [
    "This confirms our choice of k = 2."
   ]
  },
  {
   "cell_type": "code",
   "execution_count": null,
   "id": "ff3105a2-2706-426d-9cab-cdd13661d081",
   "metadata": {},
   "outputs": [],
   "source": [
    "reskmeans = kmeans(load, centers=2) \n",
    "\n",
    "fviz_cluster(reskmeans, data=load, ellipse.type=\"norm\", labelsize=8, geom=c(\"point\"))"
   ]
  },
  {
   "cell_type": "code",
   "execution_count": null,
   "id": "6160c1fb-2174-4f06-aefe-60c41059f40d",
   "metadata": {},
   "outputs": [],
   "source": [
    "tbl = table(coord$bonus, reskmeans$cluster)\n",
    "\n",
    "options(repr.plot.width = 9, repr.plot.height = 6)\n",
    "mosaicplot(tbl, color=c(2:4))\n"
   ]
  },
  {
   "cell_type": "markdown",
   "id": "02530a11-642a-49fd-9bc8-8699331c68cc",
   "metadata": {},
   "source": [
    "With this graph, we can see that the stations located on a hill are all in the same cluster, the first one. The ones not on a hill are almost equally divided between the two clusters.\n"
   ]
  },
  {
   "cell_type": "code",
   "execution_count": null,
   "id": "018d3ff3-f504-4294-ab82-066e33ae3ec3",
   "metadata": {},
   "outputs": [],
   "source": [
    "options(repr.plot.width = 6, repr.plot.height = 20)\n",
    "\n",
    "p1 <- ggplot(load, aes(x = coord$longitude, y = coord$latitude)) +\n",
    "  geom_point(aes(color = factor(reskmeans$cluster))) + \n",
    "  labs(title = \"Clusters of the stations of velib\", x = \"Longitude\", y = \"Latitude\") +\n",
    "  theme_minimal()\n",
    "\n",
    "dfi$load = load[,6]\n",
    "p2 = ggplot(dfi, aes(x=longitude, y=latitude, color=load)) + \n",
    "        geom_point() +\n",
    "        labs(title = paste(\"Stations loading - Monday 6 h\"))\n",
    "\n",
    "p = list(p1,p2)\n",
    "do.call(grid.arrange,p)"
   ]
  },
  {
   "cell_type": "markdown",
   "id": "908a3e3d-e2cc-4466-9e13-188590ae3dee",
   "metadata": {},
   "source": [
    "By ploting the clusters by their location, we can see that they correspond more or less to the loading of the stations early in the morning and late in the evening.\n",
    "\n",
    "### CAH\n"
   ]
  },
  {
   "cell_type": "code",
   "execution_count": null,
   "id": "0bc77ecc-0ab6-4093-bff4-a579ac674ca3",
   "metadata": {},
   "outputs": [],
   "source": [
    "options(repr.plot.width = 12, repr.plot.height = 6)\n",
    "\n",
    "grid.arrange(\n",
    "    fviz_nbclust(load, FUNcluster=hcut, method=\"wss\") + ggtitle(\"WSS according to nb of clusters\"),\n",
    "    fviz_nbclust(load, FUNcluster=hcut, method=\"silhouette\") + ggtitle(\"silhouette according to nb of clusters\"),\n",
    "    ncol=2\n",
    ")"
   ]
  },
  {
   "cell_type": "code",
   "execution_count": null,
   "id": "c7a53914-e01b-4879-b092-c17c500b8bae",
   "metadata": {},
   "outputs": [],
   "source": [
    "d = dist(load, method=\"euclidean\")\n",
    "hclustcomplete = hclust(d, method=\"complete\")\n",
    "reshclust = cutree(hclustcomplete, 2)\n",
    "\n",
    "# --- #\n",
    "\n",
    "fviz_dend(hclustcomplete, k=2, show_labels=FALSE, rect=TRUE)"
   ]
  },
  {
   "cell_type": "code",
   "execution_count": null,
   "id": "b4acbb79-ded3-4ab7-9ff8-07a115bc020c",
   "metadata": {},
   "outputs": [],
   "source": [
    "tbl = table(coord$bonus, reshclust)\n",
    "print(tbl)\n",
    "\n",
    "options(repr.plot.width = 9, repr.plot.height = 6)\n",
    "mosaicplot(tbl, color=c(2:4))"
   ]
  },
  {
   "cell_type": "markdown",
   "id": "f4e30b24-40ab-4e4b-b977-95d5666c47f8",
   "metadata": {},
   "source": [
    "Once again, the stations located on a hill are all in the first cluster. However, the clusters are very unequal in size.\n"
   ]
  },
  {
   "cell_type": "code",
   "execution_count": null,
   "id": "15d2effd-2105-4061-8317-6fd093a02e8c",
   "metadata": {},
   "outputs": [],
   "source": [
    "p1 <- ggplot(load, aes(x = coord$longitude, y = coord$latitude)) +\n",
    "  geom_point(aes(color = factor(reshclust))) +  \n",
    "  labs(title = \"Clusters des stations de métro\", x = \"Longitude\", y = \"Latitude\") +\n",
    "  theme_minimal()\n",
    "\n",
    "\n",
    "dfi$load = load[,20]\n",
    "p2 = ggplot(dfi, aes(x=longitude, y=latitude, color=load)) + \n",
    "        geom_point() +\n",
    "        labs(title = paste(\"Stations loading - Monday 20 h\"))\n",
    "\n",
    "dfi$load = load[,6]\n",
    "p3 = ggplot(dfi, aes(x=longitude, y=latitude, color=load)) + \n",
    "        geom_point() +\n",
    "        labs(title = paste(\"Stations loading - Monday 6 h\"))\n",
    "\n",
    "p <- list(p1,p2,p3)\n",
    "\n",
    "do.call(grid.arrange,p)\n"
   ]
  },
  {
   "cell_type": "markdown",
   "id": "1e01d054-81cc-4882-bfe4-2e11f817cc5c",
   "metadata": {},
   "source": [
    "The clusters of the kmeans method and CAH method are similar. \n",
    "\n",
    "###GMM"
   ]
  },
  {
   "cell_type": "code",
   "execution_count": null,
   "id": "cf87ac4b-e824-4629-9634-45dcdaf16b3d",
   "metadata": {},
   "outputs": [],
   "source": [
    "library(mclust)\n",
    "#resBICall = mclustBIC(load, G=2:20)\n",
    "#summary(resBICall)\n",
    "\n",
    "# --- #\n",
    "\n",
    "#resBICall = Mclust(load, G=2:20)\n",
    "#summary(resBICall)\n",
    "\n",
    "#fviz_mclust(resBICall, what=\"BIC\")\n"
   ]
  },
  {
   "cell_type": "markdown",
   "id": "5971db86-00b1-4948-971e-fec9044e0805",
   "metadata": {},
   "source": [
    "The loading of thecode with so much data takes too long, so we'll only use this method with PCA.\n",
    "\n",
    "## Clustering after PCA\n",
    "\n",
    "### Kmeans\n",
    "\n",
    "Choice of k:"
   ]
  },
  {
   "cell_type": "code",
   "execution_count": null,
   "id": "8cdeb940-fedb-487b-b5a4-f5cc53dd1b1a",
   "metadata": {},
   "outputs": [],
   "source": [
    "pca_data <- pca$ind$coord\n",
    "options(repr.plot.width = 10, repr.plot.height = 6)\n",
    "\n",
    "\n",
    "fviz_nbclust(pca_data, FUNcluster=kmeans, method=\"wss\") +\n",
    "    ggtitle(\"Within sum of square (WSS) according to the number of clusters\")\n",
    "\n",
    "fviz_nbclust(pca_data, FUNcluster=kmeans, method=\"silhouette\") +\n",
    "    ggtitle(\"Silhouette score according to the number of clusters\")\n"
   ]
  },
  {
   "cell_type": "code",
   "execution_count": null,
   "id": "31a371ab-7a45-4a1b-9982-c4bf50497994",
   "metadata": {},
   "outputs": [],
   "source": [
    "options(repr.plot.width = 15, repr.plot.height = 12)\n",
    "\n",
    "# With 2 clusters\n",
    "reskmeans = kmeans(pca_data, centers=2) \n",
    "sil = silhouette(reskmeans$cluster, dist(pca_data))\n",
    "p1 = fviz_silhouette(sil)\n",
    "\n",
    "# With 3 clusters\n",
    "reskmeans = kmeans(pca_data, centers=3) \n",
    "sil = silhouette(reskmeans$cluster, dist(pca_data))\n",
    "p2 = fviz_silhouette(sil)\n",
    "\n",
    "# With 4 clusters\n",
    "reskmeans = kmeans(pca_data, centers=4) \n",
    "sil = silhouette(reskmeans$cluster, dist(pca_data))\n",
    "p3 = fviz_silhouette(sil)\n",
    "\n",
    "# With 5 clusters\n",
    "reskmeans = kmeans(pca_data, centers=5) \n",
    "sil = silhouette(reskmeans$cluster, dist(pca_data))\n",
    "p4 = fviz_silhouette(sil)\n",
    "\n",
    "grid.arrange(p1,p2,p3, p4,ncol=2)"
   ]
  },
  {
   "cell_type": "markdown",
   "id": "362a8e4a-d89e-4084-801d-437472fac8d0",
   "metadata": {},
   "source": [
    "Here, we can choose k = 2."
   ]
  },
  {
   "cell_type": "code",
   "execution_count": null,
   "id": "e3372266-cb8b-4276-b23b-66fbd155fec8",
   "metadata": {},
   "outputs": [],
   "source": [
    "reskmeans2 = kmeans(pca_data, centers=2) \n",
    "\n",
    "fviz_cluster(reskmeans2, data=pca_data, ellipse.type=\"norm\", labelsize=8, geom=c(\"point\"))"
   ]
  },
  {
   "cell_type": "code",
   "execution_count": null,
   "id": "ba8a1e70-ad20-4aaa-bd95-55abb60c4eaa",
   "metadata": {},
   "outputs": [],
   "source": [
    "tbl = table(coord$bonus, reskmeans2$cluster)\n",
    "print(tbl)\n",
    "\n",
    "options(repr.plot.width = 9, repr.plot.height = 6)\n",
    "mosaicplot(tbl, color=c(2:4))"
   ]
  },
  {
   "cell_type": "markdown",
   "id": "7411d5d9-86f1-46b6-845a-739b7ae3e770",
   "metadata": {},
   "source": [
    "Once more, the stations located on a hill are all in the same cluster, the second one here.\n"
   ]
  },
  {
   "cell_type": "code",
   "execution_count": null,
   "id": "a2eb068a-57bf-4916-add9-77c74f196d5c",
   "metadata": {},
   "outputs": [],
   "source": [
    "p1 <- ggplot(pca_data, aes(x = coord$longitude, y = coord$latitude)) +\n",
    "  geom_point(aes(color = factor(reskmeans2$cluster))) +\n",
    "  labs(title = \"Clusters des stations de métro\", x = \"Longitude\", y = \"Latitude\") +\n",
    "  theme_minimal()\n",
    "\n",
    "dfi$load = load[,12]\n",
    "p2 = ggplot(dfi, aes(x=longitude, y=latitude, color=load)) + \n",
    "        geom_point() +\n",
    "        labs(title = paste(\"Stations loading - Monday 12 h\"))\n",
    "\n",
    "p = list(p1,p2)\n",
    "do.call(grid.arrange,p)"
   ]
  },
  {
   "cell_type": "markdown",
   "id": "249179fd-4e83-49aa-93fa-5c551db6ecc3",
   "metadata": {},
   "source": [
    "Those clusters are more close to the loading of the stations at 12h. The first and third clusters are difficult to interpret.\n",
    "\n",
    "### CAH"
   ]
  },
  {
   "cell_type": "code",
   "execution_count": null,
   "id": "8aa45179-a141-4fe3-8f05-960421b627bf",
   "metadata": {},
   "outputs": [],
   "source": [
    "options(repr.plot.width = 12, repr.plot.height = 6)\n",
    "\n",
    "grid.arrange(\n",
    "    fviz_nbclust(pca_data, FUNcluster=hcut, method=\"wss\") + ggtitle(\"WSS according to nb of clusters\"),\n",
    "    fviz_nbclust(pca_data, FUNcluster=hcut, method=\"silhouette\") + ggtitle(\"silhouette according to nb of clusters\"),\n",
    "    ncol=2\n",
    ")"
   ]
  },
  {
   "cell_type": "markdown",
   "id": "c71c8b78-7504-402b-bd91-1cb4842e8b01",
   "metadata": {},
   "source": [
    "Once more, we choose 3 clusters."
   ]
  },
  {
   "cell_type": "code",
   "execution_count": null,
   "id": "3a993b13-7317-4fc3-a8f7-a3e516bc7cb3",
   "metadata": {},
   "outputs": [],
   "source": [
    "reshclust = cutree(hclustcomplete, 3)\n",
    "\n",
    "# --- #\n",
    "\n",
    "fviz_dend(hclustcomplete, k=3, show_labels=FALSE, rect=TRUE)"
   ]
  },
  {
   "cell_type": "code",
   "execution_count": null,
   "id": "c8b2f8db-95cd-47c5-a6dd-c8c72f7db3d7",
   "metadata": {},
   "outputs": [],
   "source": [
    "tbl = table(coord$bonus, reshclust)\n",
    "print(tbl)\n",
    "\n",
    "options(repr.plot.width = 9, repr.plot.height = 6)\n",
    "mosaicplot(tbl, color=c(2:4))\n"
   ]
  },
  {
   "cell_type": "code",
   "execution_count": null,
   "id": "de99970a-1e23-4c8a-9eee-5bd0f116d230",
   "metadata": {},
   "outputs": [],
   "source": [
    "p1 <- ggplot(pca_data, aes(x = coord$longitude, y = coord$latitude)) +\n",
    "  geom_point(aes(color = factor(reshclust))) +  # Utilisation de 'Cluster' pour la couleur\n",
    "  labs(title = \"Clusters des stations\", x = \"Longitude\", y = \"Latitude\") +\n",
    "  theme_minimal()\n",
    "\n",
    "print(p1)"
   ]
  },
  {
   "cell_type": "markdown",
   "id": "8423c252-d3a7-4ca4-9053-e3d461783f5d",
   "metadata": {},
   "source": [
    "The clusters of the CAH and kmeans methods are similar.\n",
    "\n",
    "\n",
    "### GMM \n"
   ]
  },
  {
   "cell_type": "code",
   "execution_count": null,
   "id": "10627a07-e683-4dca-a7d0-19b6c9403145",
   "metadata": {},
   "outputs": [],
   "source": [
    "library(mclust)\n",
    "resBICall = mclustBIC(pca_data, G=2:7)\n",
    "summary(resBICall)\n",
    "\n",
    "# --- #\n",
    "\n",
    "resBICall = Mclust(pca_data, G=2:7)\n",
    "summary(resBICall)\n",
    "\n",
    "fviz_mclust(resBICall, what=\"BIC\")"
   ]
  },
  {
   "cell_type": "code",
   "execution_count": null,
   "id": "c0c10dd5-0f2d-4d65-982a-079c6e9918db",
   "metadata": {},
   "outputs": [],
   "source": [
    "\n",
    "gmm_mod <- Mclust(data = pca_data, G=7, nstart=10)\n",
    "\n",
    "options(repr.plot.width = 10, repr.plot.height = 10)\n",
    "p2 <- ggplot(pca_data, aes(x = coord$longitude, y = coord$latitude)) +\n",
    "  geom_point(aes(color = factor(gmm_mod$classification))) +  # Utilisation de 'Cluster' pour la couleur\n",
    "  labs(title = \"Clusters des stations\", x = \"Longitude\", y = \"Latitude\") +\n",
    "  theme_minimal()\n",
    "\n",
    "print(p2)"
   ]
  },
  {
   "cell_type": "code",
   "execution_count": null,
   "id": "340b3800-2dcf-43ee-84d8-66f84c90ddbe",
   "metadata": {},
   "outputs": [],
   "source": [
    "options(repr.plot.width = 7, repr.plot.height = 7)\n",
    "print(fviz_cluster(object=gmm_mod,data=compo_acp,show.clust.cent=TRUE,ellipse=TRUE))"
   ]
  },
  {
   "cell_type": "code",
   "execution_count": null,
   "id": "527e0239-618b-4617-9867-fb658548bc99",
   "metadata": {},
   "outputs": [],
   "source": [
    "nc_gmm = 7\n",
    "time_range = 1:ncol(load)\n",
    "\n",
    "options(repr.plot.width = 28, repr.plot.height =12)\n",
    "\n",
    "\n",
    "for (i in 1:nc_gmm){\n",
    "    loadgmm <- load[gmm_mod$classification==i,]\n",
    "    plot(time_range,colMeans(loadgmm), type = \"l\")}"
   ]
  },
  {
   "cell_type": "code",
   "execution_count": null,
   "id": "06f3da2d-8897-47b6-9a25-dfe43442cf76",
   "metadata": {},
   "outputs": [],
   "source": []
  }
 ],
 "metadata": {
  "kernelspec": {
   "display_name": "",
   "name": ""
  },
  "language_info": {
   "name": ""
  }
 },
 "nbformat": 4,
 "nbformat_minor": 5
}
